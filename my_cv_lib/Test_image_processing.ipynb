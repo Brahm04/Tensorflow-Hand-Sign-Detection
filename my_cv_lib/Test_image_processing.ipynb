{
 "cells": [
  {
   "cell_type": "code",
   "execution_count": 1,
   "id": "7761688a-5700-4420-b409-b8a19d184a2a",
   "metadata": {},
   "outputs": [
    {
     "name": "stdout",
     "output_type": "stream",
     "text": [
      "Import successful!\n"
     ]
    }
   ],
   "source": [
    "import my_cv_lib.image_processing as ip\n",
    "print(\"Import successful!\")\n"
   ]
  },
  {
   "cell_type": "code",
   "execution_count": 2,
   "id": "cb764407-18b1-415d-94c3-09142283808a",
   "metadata": {},
   "outputs": [
    {
     "ename": "NameError",
     "evalue": "name 'gray_image' is not defined",
     "output_type": "error",
     "traceback": [
      "\u001b[1;31m---------------------------------------------------------------------------\u001b[0m",
      "\u001b[1;31mNameError\u001b[0m                                 Traceback (most recent call last)",
      "Cell \u001b[1;32mIn[2], line 4\u001b[0m\n\u001b[0;32m      1\u001b[0m \u001b[38;5;28;01mimport\u001b[39;00m\u001b[38;5;250m \u001b[39m\u001b[38;5;21;01mPIL\u001b[39;00m\u001b[38;5;21;01m.\u001b[39;00m\u001b[38;5;21;01mImage\u001b[39;00m\n\u001b[0;32m      3\u001b[0m \u001b[38;5;66;03m# Apply Sobel edge detection\u001b[39;00m\n\u001b[1;32m----> 4\u001b[0m sobel_edges \u001b[38;5;241m=\u001b[39m ip\u001b[38;5;241m.\u001b[39msobel_edge_detection(\u001b[43mgray_image\u001b[49m)\n\u001b[0;32m      6\u001b[0m \u001b[38;5;66;03m# Convert to PIL Image for display in Jupyter\u001b[39;00m\n\u001b[0;32m      7\u001b[0m pil_sobel \u001b[38;5;241m=\u001b[39m PIL\u001b[38;5;241m.\u001b[39mImage\u001b[38;5;241m.\u001b[39mfromarray(sobel_edges)\n",
      "\u001b[1;31mNameError\u001b[0m: name 'gray_image' is not defined"
     ]
    }
   ],
   "source": [
    "import cv2\n",
    "import my_cv_lib.image_processing as ip\n",
    "import PIL.Image\n",
    "from IPython.display import display\n",
    "\n",
    "# 1. Read an image from file (OpenCV reads images as BGR by default)\n",
    "image = cv2.imread(\"test.jpg\")\n",
    "\n",
    "# 2. Convert the image to grayscale (using your library function)\n",
    "gray_image = ip.convert_to_grayscale(image)\n",
    "\n",
    "# 3. Apply Sobel edge detection\n",
    "sobel_edges = ip.sobel_edge_detection(gray_image)\n",
    "\n",
    "# 4. Convert result to PIL Image for display in Jupyter\n",
    "pil_sobel = PIL.Image.fromarray(sobel_edges)\n",
    "\n",
    "# 5. Display the image\n",
    "display(pil_sobel)\n"
   ]
  },
  {
   "cell_type": "code",
   "execution_count": 14,
   "id": "325dca9c-27fa-4ebc-88f6-e71e54c6f852",
   "metadata": {},
   "outputs": [
    {
     "name": "stdout",
     "output_type": "stream",
     "text": [
      "Collecting pillow\n",
      "  Using cached pillow-11.1.0-cp311-cp311-win_amd64.whl.metadata (9.3 kB)\n",
      "Using cached pillow-11.1.0-cp311-cp311-win_amd64.whl (2.6 MB)\n",
      "Installing collected packages: pillow\n",
      "Successfully installed pillow-11.1.0\n"
     ]
    }
   ],
   "source": [
    "!pip install pillow"
   ]
  },
  {
   "cell_type": "code",
   "execution_count": null,
   "id": "0658c4b3-3f4d-40d6-a64c-634c92c0ae6e",
   "metadata": {},
   "outputs": [],
   "source": []
  }
 ],
 "metadata": {
  "kernelspec": {
   "display_name": "VirtualEnv",
   "language": "python",
   "name": "virtualenv"
  },
  "language_info": {
   "codemirror_mode": {
    "name": "ipython",
    "version": 3
   },
   "file_extension": ".py",
   "mimetype": "text/x-python",
   "name": "python",
   "nbconvert_exporter": "python",
   "pygments_lexer": "ipython3",
   "version": "3.11.9"
  }
 },
 "nbformat": 4,
 "nbformat_minor": 5
}
